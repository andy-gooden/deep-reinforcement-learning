{
 "cells": [
  {
   "cell_type": "markdown",
   "metadata": {},
   "source": [
    "# Continuous Control\n",
    "\n",
    "---\n",
    "\n",
    "In this notebook, you will learn how to use the Unity ML-Agents environment for the second project of the [Deep Reinforcement Learning Nanodegree](https://www.udacity.com/course/deep-reinforcement-learning-nanodegree--nd893) program.\n",
    "\n",
    "### 1. Start the Environment\n",
    "\n",
    "We begin by importing the necessary packages.  If the code cell below returns an error, please revisit the project instructions to double-check that you have installed [Unity ML-Agents](https://github.com/Unity-Technologies/ml-agents/blob/master/docs/Installation.md) and [NumPy](http://www.numpy.org/)."
   ]
  },
  {
   "cell_type": "code",
   "execution_count": 1,
   "metadata": {},
   "outputs": [],
   "source": [
    "import time\n",
    "import random\n",
    "import numpy as np\n",
    "import matplotlib.pyplot as plt\n",
    "from unityagents import UnityEnvironment\n",
    "from time import sleep\n",
    "from collections import deque\n",
    "from ddpg_agent import Agent\n",
    "%matplotlib inline"
   ]
  },
  {
   "cell_type": "markdown",
   "metadata": {},
   "source": [
    "### 2. Examine the State and Action Spaces\n",
    "\n",
    "In this environment, a double-jointed arm can move to target locations. A reward of `+0.1` is provided for each step that the agent's hand is in the goal location. Thus, the goal of your agent is to maintain its position at the target location for as many time steps as possible.\n",
    "\n",
    "The observation space consists of `33` variables corresponding to position, rotation, velocity, and angular velocities of the arm.  Each action is a vector with four numbers, corresponding to torque applicable to two joints.  Every entry in the action vector must be a number between `-1` and `1`.\n",
    "\n",
    "Run the code cell below to print some information about the environment."
   ]
  },
  {
   "cell_type": "code",
   "execution_count": 2,
   "metadata": {},
   "outputs": [
    {
     "name": "stderr",
     "output_type": "stream",
     "text": [
      "INFO:unityagents:\n",
      "'Academy' started successfully!\n",
      "Unity Academy name: Academy\n",
      "        Number of Brains: 1\n",
      "        Number of External Brains : 1\n",
      "        Lesson number : 0\n",
      "        Reset Parameters :\n",
      "\t\tgoal_speed -> 1.0\n",
      "\t\tgoal_size -> 5.0\n",
      "Unity brain name: ReacherBrain\n",
      "        Number of Visual Observations (per agent): 0\n",
      "        Vector Observation space type: continuous\n",
      "        Vector Observation space size (per agent): 33\n",
      "        Number of stacked Vector Observation: 1\n",
      "        Vector Action space type: continuous\n",
      "        Vector Action space size (per agent): 4\n",
      "        Vector Action descriptions: , , , \n"
     ]
    },
    {
     "name": "stdout",
     "output_type": "stream",
     "text": [
      "Shape of states: (20, 33)\n",
      "Number of agents: 20\n",
      "Size of each action: 4\n",
      "There are 20 agents. Each observes a state with length: 33\n",
      "The state for the first agent looks like: [ 0.00000000e+00 -4.00000000e+00  0.00000000e+00  1.00000000e+00\n",
      " -0.00000000e+00 -0.00000000e+00 -4.37113883e-08  0.00000000e+00\n",
      "  0.00000000e+00  0.00000000e+00  0.00000000e+00  0.00000000e+00\n",
      "  0.00000000e+00  0.00000000e+00 -1.00000000e+01  0.00000000e+00\n",
      "  1.00000000e+00 -0.00000000e+00 -0.00000000e+00 -4.37113883e-08\n",
      "  0.00000000e+00  0.00000000e+00  0.00000000e+00  0.00000000e+00\n",
      "  0.00000000e+00  0.00000000e+00  5.75471878e+00 -1.00000000e+00\n",
      "  5.55726624e+00  0.00000000e+00  1.00000000e+00  0.00000000e+00\n",
      " -1.68164849e-01]\n",
      "NOISE: <ddpg_agent.OUNoise object at 0x11ffff438>\n"
     ]
    }
   ],
   "source": [
    "############################################################\n",
    "env = UnityEnvironment(file_name='Reacher20.app')\n",
    "# Environments contain brains which are responsible for deciding the actions of their associated agents\n",
    "# Here we check for the first brain available, and set it as the default brain \n",
    "# that we will be controlling from Python.\n",
    "brain_name = env.brain_names[0]\n",
    "brain = env.brains[brain_name]                    # get the default brain\n",
    "\n",
    "############################################################\n",
    "env_info = env.reset(train_mode=True)[brain_name] \n",
    "num_agents = len(env_info.agents)\n",
    "action_size = brain.vector_action_space_size\n",
    "state_size = brain.vector_observation_space_size\n",
    "states = env_info.vector_observations\n",
    "\n",
    "print('Shape of states: {}'.format(states.shape))\n",
    "\n",
    "print('Number of agents:', num_agents)\n",
    "print('Size of each action:', action_size)\n",
    "print('There are {} agents. Each observes a state with length: {}'.format(states.shape[0], state_size))\n",
    "print('The state for the first agent looks like:', states[0])\n",
    "\n",
    "agent = Agent(num_agents=num_agents, state_size=state_size, action_size=action_size, random_seed=42)\n",
    "env_info = env.reset(train_mode=True)[brain_name] "
   ]
  },
  {
   "cell_type": "markdown",
   "metadata": {},
   "source": [
    "### 3. Train the Agent"
   ]
  },
  {
   "cell_type": "code",
   "execution_count": 3,
   "metadata": {},
   "outputs": [
    {
     "name": "stderr",
     "output_type": "stream",
     "text": [
      "/Users/andy.gooden/.pyenv/versions/3.6.15/envs/p1_navigation/lib/python3.6/site-packages/torch/nn/functional.py:1795: UserWarning: nn.functional.tanh is deprecated. Use torch.tanh instead.\n",
      "  warnings.warn(\"nn.functional.tanh is deprecated. Use torch.tanh instead.\")\n"
     ]
    },
    {
     "name": "stdout",
     "output_type": "stream",
     "text": [
      "STARTING RUN: id 2746317214\n",
      "Episode 5\tAverage Score: 1.02\tScore Variance: 0.15\n",
      "Episode 10\tAverage Score: 1.50\tScore Variance: 0.24\n",
      "Episode 15\tAverage Score: 3.92\tScore Variance: 0.99\n",
      "Episode 20\tAverage Score: 12.11\tScore Variance: 8.92\n",
      "Episode 25\tAverage Score: 19.66\tScore Variance: 36.40\n",
      "Episode 30\tAverage Score: 26.37\tScore Variance: 73.62\n",
      "Episode 35\tAverage Score: 35.06\tScore Variance: 132.44\n",
      "Episode 40\tAverage Score: 38.05\tScore Variance: 190.19\n",
      "Episode 45\tAverage Score: 38.57\tScore Variance: 225.91\n",
      "Episode 50\tAverage Score: 39.12\tScore Variance: 244.56\n",
      "Saving model params as: 2746317214_checkpoint_actor.pth and 2746317214_checkpoint_critic.pth\n",
      "Episode 55\tAverage Score: 38.95\tScore Variance: 252.72\n",
      "Episode 60\tAverage Score: 36.70\tScore Variance: 251.64\n",
      "Episode 65\tAverage Score: 38.02\tScore Variance: 247.99\n",
      "Episode 70\tAverage Score: 37.85\tScore Variance: 242.71\n",
      "Episode 75\tAverage Score: 37.93\tScore Variance: 236.60\n",
      "Episode 80\tAverage Score: 37.68\tScore Variance: 230.61\n",
      "Episode 85\tAverage Score: 36.03\tScore Variance: 224.19\n",
      "Episode 90\tAverage Score: 37.64\tScore Variance: 217.52\n",
      "Episode 95\tAverage Score: 37.51\tScore Variance: 210.49\n",
      "Episode 100\tAverage Score: 37.67\tScore Variance: 203.84\n",
      "Saving model params as: 2746317214_checkpoint_actor.pth and 2746317214_checkpoint_critic.pth\n",
      "Episode 105\tAverage Score: 37.81\tScore Variance: 164.32\n",
      "Episode 110\tAverage Score: 37.44\tScore Variance: 120.06\n",
      "Episode 115\tAverage Score: 37.37\tScore Variance: 72.976\n",
      "Episode 120\tAverage Score: 38.30\tScore Variance: 33.76\n",
      "Episode 125\tAverage Score: 38.11\tScore Variance: 12.89\n",
      "Episode 130\tAverage Score: 37.01\tScore Variance: 2.570\n",
      "Episode 131\tAverage Score: 37.86\tScore Variance: 1.45\n",
      "Environment solved in 131 episodes!\tAverage Score: 37.86\tScore Variance: 1.45\n",
      "Saving model params as: final_2746317214_checkpoint_actor.pth and final_2746317214_checkpoint_critic.pth\n",
      "\n",
      "\n",
      "total train time:  2093.6735937595367\n"
     ]
    },
    {
     "data": {
      "image/png": "[encoded data removed]",
      "text/plain": [
       "<Figure size 432x288 with 1 Axes>"
      ]
     },
     "metadata": {
      "needs_background": "light"
     },
     "output_type": "display_data"
    }
   ],
   "source": [
    "def ddpg(run_id=\"1\", n_episodes=3000, max_t=500):\n",
    "    \"\"\"Deep Deterministic Policy Gradient\n",
    "    \n",
    "    Params\n",
    "    ======\n",
    "        n_episodes (int): maximum number of training episodes\n",
    "        max_t (int): maximum number of timesteps per episode\n",
    "    Constants\n",
    "    ======\n",
    "        AVE_SCORE_TARGET (int): the average of scores in SCORE_WINDOW, above which we consider the problem solved\n",
    "        SCORE_WINDOW_SIZE (int): number of scores to average over\n",
    "    \"\"\"\n",
    "    SCORE_WINDOW_SIZE = 100\n",
    "    AVE_SCORE_TARGET = 30.0\n",
    "    solved = False                                         # do we have a solution yet?\n",
    "    best_score = 0                                         # what's our best average score?\n",
    "    break_on_first_solution = True                        # bail as soon as we meet criteria?\n",
    "    scores = []                                            # list containing scores from each episode\n",
    "    variances = []                                         # I want to see the variance of scores in score wind\n",
    "    scores_window = deque(maxlen=SCORE_WINDOW_SIZE)        # last 100 scores\n",
    "    \n",
    "    for i_episode in range(1, n_episodes+1):\n",
    "        env_info = env.reset(train_mode=True)[brain_name]  # reset the environment\n",
    "        states = env_info.vector_observations              # get current states from all agents (N,33)\n",
    "        agent.reset()                                      # reset exploratory noise on agent\n",
    "        score = 0\n",
    "        t = 0\n",
    "        while True:\n",
    "        #for t in range(max_t):\n",
    "            actions = agent.act(states)                      # get actions to take (N,4)\n",
    "            env_info = env.step(actions)[brain_name]        # send the action to the environment\n",
    "            next_states = env_info.vector_observations   # get next state for each agent (N,33)\n",
    "            rewards = env_info.rewards                   # get the rewards (N,)\n",
    "            dones = env_info.local_done                  # see if episode has finished (N,)\n",
    "            agent.step(states, actions, rewards, next_states, dones)\n",
    "            states = next_states\n",
    "            score += np.mean(rewards)\n",
    "            t += 1\n",
    "            if any(dones):\n",
    "                #print(f\"Episode {i_episode} took {t} steps\")\n",
    "                break \n",
    "        scores_window.append(score)       # save most recent score\n",
    "        scores.append(score)              # save most recent score\n",
    "        \n",
    "        print('\\rEpisode {}\\tAverage Score: {:.2f}\\tScore Variance: {:.2f}'.format(i_episode, scores_window[-1], np.var(scores_window)), end=\"\")\n",
    "        if i_episode % 5 == 0:\n",
    "            print('\\rEpisode {}\\tAverage Score: {:.2f}'.format(i_episode, scores_window[-1]))\n",
    "            \n",
    "        if all(np.array(scores_window) >= AVE_SCORE_TARGET):\n",
    "            solved = True\n",
    "            print('\\nEnvironment solved in {:d} episodes!\\tAverage Score: {:.2f}\\tScore Variance: {:.2f}'.format(i_episode, scores_window[-1], np.var(scores_window)))\n",
    "            agent.save_policy(f'final_{run_id}')\n",
    "            break\n",
    "            \n",
    "        if i_episode % 50 == 0:\n",
    "            agent.save_policy(run_id)\n",
    "    return scores\n",
    "\n",
    "st = time.time()\n",
    "run_id = str(random.randint(1, 2**32-1))\n",
    "print(f\"STARTING RUN: id {run_id}\")\n",
    "scores = ddpg(run_id=run_id)\n",
    "print(\"\\n\\ntotal train time: \", time.time() - st)\n",
    "\n",
    "# plot the scores\n",
    "fig = plt.figure()\n",
    "ax = fig.add_subplot(111)\n",
    "plt.plot(np.arange(len(scores)), scores)\n",
    "plt.ylabel('Score')\n",
    "plt.xlabel('Episode #')\n",
    "plt.show()"
   ]
  },
  {
   "cell_type": "markdown",
   "metadata": {},
   "source": [
    "When finished, you can close the environment."
   ]
  }
 ],
 "metadata": {
  "kernelspec": {
   "display_name": "p1_navigation",
   "language": "python",
   "name": "p1_navigation"
  },
  "language_info": {
   "codemirror_mode": {
    "name": "ipython",
    "version": 3
   },
   "file_extension": ".py",
   "mimetype": "text/x-python",
   "name": "python",
   "nbconvert_exporter": "python",
   "pygments_lexer": "ipython3",
   "version": "3.6.15"
  }
 },
 "nbformat": 4,
 "nbformat_minor": 2
}
