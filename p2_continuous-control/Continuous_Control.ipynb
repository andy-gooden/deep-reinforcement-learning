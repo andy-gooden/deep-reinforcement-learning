{
 "cells": [
  {
   "cell_type": "markdown",
   "metadata": {},
   "source": [
    "# Continuous Control\n",
    "\n",
    "---\n",
    "\n",
    "In this notebook, you will learn how to use the Unity ML-Agents environment for the second project of the [Deep Reinforcement Learning Nanodegree](https://www.udacity.com/course/deep-reinforcement-learning-nanodegree--nd893) program.\n",
    "\n",
    "### 1. Start the Environment\n",
    "\n",
    "We begin by importing the necessary packages.  If the code cell below returns an error, please revisit the project instructions to double-check that you have installed [Unity ML-Agents](https://github.com/Unity-Technologies/ml-agents/blob/master/docs/Installation.md) and [NumPy](http://www.numpy.org/)."
   ]
  },
  {
   "cell_type": "code",
   "execution_count": 1,
   "metadata": {},
   "outputs": [],
   "source": [
    "from unityagents import UnityEnvironment\n",
    "import numpy as np\n",
    "from time import sleep\n",
    "import time\n",
    "from collections import deque\n",
    "import matplotlib.pyplot as plt\n",
    "%matplotlib inline\n",
    "\n",
    "from ddpg_agent import Agent"
   ]
  },
  {
   "cell_type": "markdown",
   "metadata": {},
   "source": [
    "### 2. Examine the State and Action Spaces\n",
    "\n",
    "In this environment, a double-jointed arm can move to target locations. A reward of `+0.1` is provided for each step that the agent's hand is in the goal location. Thus, the goal of your agent is to maintain its position at the target location for as many time steps as possible.\n",
    "\n",
    "The observation space consists of `33` variables corresponding to position, rotation, velocity, and angular velocities of the arm.  Each action is a vector with four numbers, corresponding to torque applicable to two joints.  Every entry in the action vector must be a number between `-1` and `1`.\n",
    "\n",
    "Run the code cell below to print some information about the environment."
   ]
  },
  {
   "cell_type": "code",
   "execution_count": 2,
   "metadata": {},
   "outputs": [
    {
     "name": "stderr",
     "output_type": "stream",
     "text": [
      "INFO:unityagents:\n",
      "'Academy' started successfully!\n",
      "Unity Academy name: Academy\n",
      "        Number of Brains: 1\n",
      "        Number of External Brains : 1\n",
      "        Lesson number : 0\n",
      "        Reset Parameters :\n",
      "\t\tgoal_speed -> 1.0\n",
      "\t\tgoal_size -> 5.0\n",
      "Unity brain name: ReacherBrain\n",
      "        Number of Visual Observations (per agent): 0\n",
      "        Vector Observation space type: continuous\n",
      "        Vector Observation space size (per agent): 33\n",
      "        Number of stacked Vector Observation: 1\n",
      "        Vector Action space type: continuous\n",
      "        Vector Action space size (per agent): 4\n",
      "        Vector Action descriptions: , , , \n"
     ]
    },
    {
     "name": "stdout",
     "output_type": "stream",
     "text": [
      "Shape of states: (20, 33)\n",
      "Number of agents: 20\n",
      "Size of each action: 4\n",
      "There are 20 agents. Each observes a state with length: 33\n",
      "The state for the first agent looks like: [ 0.00000000e+00 -4.00000000e+00  0.00000000e+00  1.00000000e+00\n",
      " -0.00000000e+00 -0.00000000e+00 -4.37113883e-08  0.00000000e+00\n",
      "  0.00000000e+00  0.00000000e+00  0.00000000e+00  0.00000000e+00\n",
      "  0.00000000e+00  0.00000000e+00 -1.00000000e+01  0.00000000e+00\n",
      "  1.00000000e+00 -0.00000000e+00 -0.00000000e+00 -4.37113883e-08\n",
      "  0.00000000e+00  0.00000000e+00  0.00000000e+00  0.00000000e+00\n",
      "  0.00000000e+00  0.00000000e+00  5.75471878e+00 -1.00000000e+00\n",
      "  5.55726624e+00  0.00000000e+00  1.00000000e+00  0.00000000e+00\n",
      " -1.68164849e-01]\n",
      "NOISE: <ddpg_agent.OUNoise object at 0x122ad90b8>\n"
     ]
    }
   ],
   "source": [
    "############################################################\n",
    "env = UnityEnvironment(file_name='Reacher20.app')\n",
    "# Environments contain brains which are responsible for deciding the actions of their associated agents\n",
    "# Here we check for the first brain available, and set it as the default brain \n",
    "# that we will be controlling from Python.\n",
    "brain_name = env.brain_names[0]\n",
    "brain = env.brains[brain_name]                    # get the default brain\n",
    "\n",
    "############################################################\n",
    "env_info = env.reset(train_mode=True)[brain_name] \n",
    "num_agents = len(env_info.agents)\n",
    "action_size = brain.vector_action_space_size\n",
    "state_size = brain.vector_observation_space_size\n",
    "states = env_info.vector_observations\n",
    "\n",
    "print('Shape of states: {}'.format(states.shape))\n",
    "\n",
    "print('Number of agents:', num_agents)\n",
    "print('Size of each action:', action_size)\n",
    "print('There are {} agents. Each observes a state with length: {}'.format(states.shape[0], state_size))\n",
    "print('The state for the first agent looks like:', states[0])\n",
    "\n",
    "agent = Agent(num_agents=num_agents, state_size=state_size, action_size=action_size, random_seed=42)\n",
    "env_info = env.reset(train_mode=True)[brain_name] "
   ]
  },
  {
   "cell_type": "markdown",
   "metadata": {},
   "source": [
    "### 3. Train the Agent"
   ]
  },
  {
   "cell_type": "code",
   "execution_count": null,
   "metadata": {},
   "outputs": [
    {
     "name": "stderr",
     "output_type": "stream",
     "text": [
      "/Users/andy.gooden/.pyenv/versions/3.6.15/envs/p1_navigation/lib/python3.6/site-packages/torch/nn/functional.py:1795: UserWarning: nn.functional.tanh is deprecated. Use torch.tanh instead.\n",
      "  warnings.warn(\"nn.functional.tanh is deprecated. Use torch.tanh instead.\")\n"
     ]
    },
    {
     "name": "stdout",
     "output_type": "stream",
     "text": [
      "Episode 5\tAverage Score: 0.10\tScore Variance: 0.00\n",
      "Episode 10\tAverage Score: 0.09\tScore Variance: 0.00\n",
      "Episode 15\tAverage Score: 0.67\tScore Variance: 0.04\n",
      "Episode 20\tAverage Score: 0.76\tScore Variance: 0.07\n",
      "Episode 25\tAverage Score: 1.11\tScore Variance: 0.12\n",
      "Episode 30\tAverage Score: 1.98\tScore Variance: 0.33\n",
      "Episode 35\tAverage Score: 2.86\tScore Variance: 0.80\n",
      "Episode 40\tAverage Score: 8.24\tScore Variance: 3.19\n",
      "Episode 45\tAverage Score: 14.23\tScore Variance: 13.15\n",
      "Episode 50\tAverage Score: 17.55\tScore Variance: 29.06\n",
      "Episode 55\tAverage Score: 18.07\tScore Variance: 42.82\n",
      "Episode 60\tAverage Score: 18.79\tScore Variance: 52.75\n",
      "Episode 65\tAverage Score: 19.00\tScore Variance: 59.85\n",
      "Episode 70\tAverage Score: 18.62\tScore Variance: 64.30\n",
      "Episode 75\tAverage Score: 18.72\tScore Variance: 66.87\n",
      "Episode 80\tAverage Score: 18.65\tScore Variance: 68.34\n",
      "Episode 85\tAverage Score: 18.47\tScore Variance: 68.81\n",
      "Episode 90\tAverage Score: 18.21\tScore Variance: 68.70\n",
      "Episode 95\tAverage Score: 18.33\tScore Variance: 68.09\n",
      "Episode 100\tAverage Score: 18.66\tScore Variance: 67.55\n",
      "Episode 105\tAverage Score: 18.75\tScore Variance: 63.17\n",
      "Episode 110\tAverage Score: 18.95\tScore Variance: 57.22\n",
      "Episode 115\tAverage Score: 18.50\tScore Variance: 49.83\n",
      "Episode 120\tAverage Score: 18.68\tScore Variance: 41.18\n",
      "Episode 125\tAverage Score: 18.43\tScore Variance: 31.32\n",
      "Episode 130\tAverage Score: 18.43\tScore Variance: 20.97\n",
      "Episode 135\tAverage Score: 18.96\tScore Variance: 10.80\n",
      "Episode 140\tAverage Score: 18.59\tScore Variance: 2.92\n",
      "Episode 143\tAverage Score: 18.61\tScore Variance: 0.79"
     ]
    }
   ],
   "source": [
    "def ddpg(n_episodes=3000, max_t=500):\n",
    "    \"\"\"Deep Deterministic Policy Gradient\n",
    "    \n",
    "    Params\n",
    "    ======\n",
    "        n_episodes (int): maximum number of training episodes\n",
    "        max_t (int): maximum number of timesteps per episode\n",
    "    Constants\n",
    "    ======\n",
    "        AVE_SCORE_TARGET (int): the average of scores in SCORE_WINDOW, above which we consider the problem solved\n",
    "        SCORE_WINDOW_SIZE (int): number of scores to average over\n",
    "    \"\"\"\n",
    "    SCORE_WINDOW_SIZE = 100\n",
    "    AVE_SCORE_TARGET = 30.0\n",
    "    solved = False                                         # do we have a solution yet?\n",
    "    best_score = 0                                         # what's our best average score?\n",
    "    break_on_first_solution = True                        # bail as soon as we meet criteria?\n",
    "    scores = []                                            # list containing scores from each episode\n",
    "    variances = []                                         # I want to see the variance of scores in score wind\n",
    "    scores_window = deque(maxlen=SCORE_WINDOW_SIZE)        # last 100 scores\n",
    "    \n",
    "    for i_episode in range(1, n_episodes+1):\n",
    "        env_info = env.reset(train_mode=True)[brain_name]  # reset the environment\n",
    "        states = env_info.vector_observations              # get current states from all agents (N,33)\n",
    "        agent.reset()                                      # reset exploratory noise on agent\n",
    "        score = 0\n",
    "        for t in range(max_t):\n",
    "            actions = agent.act(states)                      # get actions to take (N,4)\n",
    "            env_info = env.step(actions)[brain_name]        # send the action to the environment\n",
    "            next_states = env_info.vector_observations   # get next state for each agent (N,33)\n",
    "            rewards = env_info.rewards                   # get the rewards (N,)\n",
    "            dones = env_info.local_done                  # see if episode has finished (N,)\n",
    "            agent.step(states, actions, rewards, next_states, dones)\n",
    "            states = next_states\n",
    "            score += np.mean(rewards)\n",
    "            if any(dones):\n",
    "                print(f\"Episode {i_episode} took {t} steps\")\n",
    "                break \n",
    "        scores_window.append(score)       # save most recent score\n",
    "        scores.append(score)              # save most recent score\n",
    "        \n",
    "        print('\\rEpisode {}\\tAverage Score: {:.2f}\\tScore Variance: {:.2f}'.format(i_episode, scores_window[-1], np.var(scores_window)), end=\"\")\n",
    "        if i_episode % 5 == 0:\n",
    "            print('\\rEpisode {}\\tAverage Score: {:.2f}'.format(i_episode, scores_window[-1]))\n",
    "            \n",
    "        if all(np.array(scores_window) >= AVE_SCORE_TARGET):\n",
    "            solved = True\n",
    "            print('\\nEnvironment solved in {:d} episodes!\\tAverage Score: {:.2f}'.format(i_episode, avg_score))\n",
    "            agent.save_policy()\n",
    "            break\n",
    "\n",
    "    return scores\n",
    "\n",
    "st = time.time()\n",
    "scores = ddpg()\n",
    "print(\"\\n\\ntotal train time: \", time.time() - st)\n",
    "\n",
    "# plot the scores\n",
    "fig = plt.figure()\n",
    "ax = fig.add_subplot(111)\n",
    "plt.plot(np.arange(len(scores)), scores)\n",
    "plt.ylabel('Score')\n",
    "plt.xlabel('Episode #')\n",
    "plt.show()"
   ]
  },
  {
   "cell_type": "markdown",
   "metadata": {},
   "source": [
    "When finished, you can close the environment."
   ]
  },
  {
   "cell_type": "code",
   "execution_count": null,
   "metadata": {},
   "outputs": [],
   "source": [
    "env.close()"
   ]
  },
  {
   "cell_type": "markdown",
   "metadata": {},
   "source": [
    "### 4. It's Your Turn!\n",
    "\n",
    "Now it's your turn to train your own agent to solve the environment!  When training the environment, set `train_mode=True`, so that the line for resetting the environment looks like the following:\n",
    "```python\n",
    "env_info = env.reset(train_mode=True)[brain_name]\n",
    "```"
   ]
  }
 ],
 "metadata": {
  "kernelspec": {
   "display_name": "p1_navigation",
   "language": "python",
   "name": "p1_navigation"
  },
  "language_info": {
   "codemirror_mode": {
    "name": "ipython",
    "version": 3
   },
   "file_extension": ".py",
   "mimetype": "text/x-python",
   "name": "python",
   "nbconvert_exporter": "python",
   "pygments_lexer": "ipython3",
   "version": "3.6.15"
  }
 },
 "nbformat": 4,
 "nbformat_minor": 2
}
